{
 "cells": [
  {
   "cell_type": "code",
   "execution_count": 1,
   "id": "85b8d324-8f4b-4a65-b5c7-f66f7d815f68",
   "metadata": {},
   "outputs": [
    {
     "name": "stdout",
     "output_type": "stream",
     "text": [
      "Collecting pytesseract\n",
      "  Downloading pytesseract-0.3.13-py3-none-any.whl.metadata (11 kB)\n",
      "Requirement already satisfied: packaging>=21.3 in /home/alvinrach/.jupytervenv/lib/python3.12/site-packages (from pytesseract) (25.0)\n",
      "Requirement already satisfied: Pillow>=8.0.0 in /home/alvinrach/.jupytervenv/lib/python3.12/site-packages (from pytesseract) (11.3.0)\n",
      "Downloading pytesseract-0.3.13-py3-none-any.whl (14 kB)\n",
      "Installing collected packages: pytesseract\n",
      "Successfully installed pytesseract-0.3.13\n"
     ]
    }
   ],
   "source": [
    "!pip install pytesseract"
   ]
  },
  {
   "cell_type": "code",
   "execution_count": 4,
   "id": "a01d0f64-b105-44b7-9a7a-58b6475882ad",
   "metadata": {},
   "outputs": [
    {
     "name": "stdout",
     "output_type": "stream",
     "text": [
      "_ 3674072257025006\n",
      "\n",
      "- FORTINA QUALIFA — z\n",
      "\n",
      "i: SEMARANG, 22-' 04-1994 =\n",
      "LAKI-LAKI\n",
      "\n",
      "Alamat TAMBAK REJO\n",
      "\n",
      "Kecamatan : AIR PU’\n",
      "Agama ——— : ISLAM\n",
      "Status Perkawinan: BELUM KAWI :\n",
      "Pekerjaan —__: SWASTA Z =\n",
      "Kewarganegaraan: WNI ==\n",
      "\n",
      "Berlaku Hingga _. SEUMUR HIDUP\n",
      "\n",
      "\n"
     ]
    }
   ],
   "source": [
    "import pytesseract\n",
    "from PIL import Image\n",
    "\n",
    "img = Image.open(\"id_card.png\")\n",
    "text = pytesseract.image_to_string(img)\n",
    "print(text)"
   ]
  },
  {
   "cell_type": "code",
   "execution_count": null,
   "id": "2e549916-af37-4057-968a-b47f7fdb03c6",
   "metadata": {},
   "outputs": [],
   "source": []
  }
 ],
 "metadata": {
  "kernelspec": {
   "display_name": "Python 3 (ipykernel)",
   "language": "python",
   "name": "python3"
  },
  "language_info": {
   "codemirror_mode": {
    "name": "ipython",
    "version": 3
   },
   "file_extension": ".py",
   "mimetype": "text/x-python",
   "name": "python",
   "nbconvert_exporter": "python",
   "pygments_lexer": "ipython3",
   "version": "3.12.3"
  }
 },
 "nbformat": 4,
 "nbformat_minor": 5
}
